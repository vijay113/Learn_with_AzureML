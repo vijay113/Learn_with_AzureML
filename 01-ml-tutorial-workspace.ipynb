{
 "cells": [
  {
   "cell_type": "code",
   "execution_count": 2,
   "id": "6fc31b05",
   "metadata": {},
   "outputs": [
    {
     "name": "stdout",
     "output_type": "stream",
     "text": [
      "Varsion of azure ml 1.36.0\n"
     ]
    }
   ],
   "source": [
    "import azureml.core\n",
    "\n",
    "print(\"Varsion of azure ml\",azureml.core.VERSION)"
   ]
  },
  {
   "cell_type": "code",
   "execution_count": 4,
   "id": "cbdc2c9e",
   "metadata": {},
   "outputs": [
    {
     "name": "stdout",
     "output_type": "stream",
     "text": [
      "ml-tutorial Loaded\n"
     ]
    }
   ],
   "source": [
    "# Connect to your workspace\n",
    "# workspace connection information in a JSON configuration file\n",
    "\n",
    "from azureml.core import Workspace\n",
    "\n",
    "ws = Workspace.from_config()\n",
    "print(ws.name,\"Loaded\")\n"
   ]
  },
  {
   "cell_type": "code",
   "execution_count": 7,
   "id": "03df0177",
   "metadata": {},
   "outputs": [
    {
     "name": "stdout",
     "output_type": "stream",
     "text": [
      "Name my-compute-instance type ComputeInstance\n"
     ]
    }
   ],
   "source": [
    "# Compute resources\n",
    "for compute_name in ws.compute_targets:\n",
    "    compute = ws.compute_targets[compute_name]\n",
    "    print(\"Name\",compute.name, \"type\",compute.type)"
   ]
  },
  {
   "cell_type": "code",
   "execution_count": 8,
   "id": "ae975fbf",
   "metadata": {},
   "outputs": [
    {
     "name": "stderr",
     "output_type": "stream",
     "text": [
      "UserWarning: The resource group doesn't exist or was not provided. AzureML SDK is creating a resource group=ml-resource-tutorial-1 in location=eastus using subscription=08c09bd9-9292-4776-9b92-dcd3da4f6cfb.\n"
     ]
    },
    {
     "name": "stdout",
     "output_type": "stream",
     "text": [
      "Deploying StorageAccount with name mltutoristorage4e09740e1.\n",
      "Deploying AppInsights with name mltutoriinsights9597a3c1.\n",
      "Deployed AppInsights with name mltutoriinsights9597a3c1. Took 1.42 seconds.\n",
      "Deploying KeyVault with name mltutorikeyvault6e8e3ce7.\n",
      "Deployed StorageAccount with name mltutoristorage4e09740e1. Took 18.97 seconds.\n",
      "Deployed KeyVault with name mltutorikeyvault6e8e3ce7. Took 16.44 seconds.\n",
      "Deploying Workspace with name ml-tutorial-1.\n",
      "Deployed Workspace with name ml-tutorial-1. Took 18.77 seconds.\n"
     ]
    }
   ],
   "source": [
    "# to create new workspace\n",
    "ws = Workspace.create(name='ml-tutorial-1', \n",
    "                      subscription_id='08c09bd9-9292-4776-9b92-dcd3da4f6cfb',\n",
    "                      resource_group='ml-resource-tutorial-1',\n",
    "                      create_resource_group=True,\n",
    "                      location='eastus'\n",
    "                     )"
   ]
  },
  {
   "cell_type": "code",
   "execution_count": 9,
   "id": "36a7b14c",
   "metadata": {},
   "outputs": [],
   "source": [
    "for compute_name in ws.compute_targets:\n",
    "    compute = ws.compute_targets[compute_name]\n",
    "    print(\"Name\",compute.name, \"type\",compute.type)"
   ]
  },
  {
   "cell_type": "code",
   "execution_count": 10,
   "id": "3e3ca8db",
   "metadata": {},
   "outputs": [
    {
     "name": "stdout",
     "output_type": "stream",
     "text": [
      "Name my-compute-instance type ComputeInstance\n"
     ]
    }
   ],
   "source": [
    "# to get workspace using sub-id\n",
    "ws = Workspace.get(name=\"ml-tutorial\",subscription_id=\"08c09bd9-9292-4776-9b92-dcd3da4f6cfb\",resource_group=\"ml-resource-tutorial\")\n",
    "\n",
    "for compute_name in ws.compute_targets:\n",
    "    compute = ws.compute_targets[compute_name]\n",
    "    print(\"Name\",compute.name, \"type\",compute.type)"
   ]
  },
  {
   "cell_type": "code",
   "execution_count": 14,
   "id": "0a3657e7",
   "metadata": {},
   "outputs": [
    {
     "name": "stdout",
     "output_type": "stream",
     "text": [
      "data store: workspaceblobstore : AzureBlob\n",
      "data store: workspaceartifactstore : AzureBlob\n",
      "data store: workspacefilestore : AzureFile\n",
      "data store: workspaceworkingdirectory : AzureFile\n"
     ]
    }
   ],
   "source": [
    "# to get  DataStores \n",
    "from azureml.core import Datastore\n",
    "for datastore_name in ws.datastores:\n",
    "    datastore = Datastore.get(ws,datastore_name)\n",
    "    print(\"data store:\",datastore.name,\":\",datastore.datastore_type)"
   ]
  },
  {
   "cell_type": "code",
   "execution_count": 15,
   "id": "9040b036",
   "metadata": {},
   "outputs": [
    {
     "name": "stdout",
     "output_type": "stream",
     "text": [
      "dataset diabetes file dataset\n",
      "dataset diabetes dataset\n"
     ]
    }
   ],
   "source": [
    "# to get Datasets\n",
    "from azureml.core import Dataset\n",
    "for dataset_name in list(ws.datasets.keys()):\n",
    "    dataset = Dataset.get_by_name(ws,dataset_name)\n",
    "    print('dataset',dataset.name)"
   ]
  },
  {
   "cell_type": "code",
   "execution_count": 18,
   "id": "062f0001",
   "metadata": {},
   "outputs": [
    {
     "name": "stdout",
     "output_type": "stream",
     "text": [
      "workspace ml-tutorial-1\n",
      "datastore: workspaceworkingdirectory : AzureFile\n",
      "datastore: workspacefilestore : AzureFile\n",
      "datastore: workspaceartifactstore : AzureBlob\n",
      "datastore: workspaceblobstore : AzureBlob\n"
     ]
    }
   ],
   "source": [
    "ws_1 = Workspace.get(name=\"ml-tutorial-1\",subscription_id=\"08c09bd9-9292-4776-9b92-dcd3da4f6cfb\",resource_group=\"ml-resource-tutorial-1\")\n",
    "print(\"workspace\",ws_1.name)\n",
    "\n",
    "# to get compute target from new workspace\n",
    "for compute_target in ws_1.compute_targets:\n",
    "    compute = ws_1.compute_targets[compute_target]\n",
    "    print(\"compute target:\",compute.name,\":\", compute.type)\n",
    "\n",
    "# to get data stores from new workspace\n",
    "for datastore_name in ws_1.datastores:\n",
    "    datastore = Datastore.get(ws_1,datastore_name)\n",
    "    print(\"datastore:\",datastore.name,\":\",datastore.datastore_type)\n",
    "\n",
    "# to get data set from new workspace\n",
    "for dataset_name in list(ws_1.datasets.keys()):\n",
    "    dataset = Dataset.get_by_name(ws_1,dataset_name)\n",
    "    print(\"dataset:\",dataset.name)\n"
   ]
  },
  {
   "cell_type": "code",
   "execution_count": null,
   "id": "a6c2589a",
   "metadata": {},
   "outputs": [],
   "source": [
    "#  End #"
   ]
  }
 ],
 "metadata": {
  "kernelspec": {
   "display_name": "Python 3.6 - AzureML",
   "language": "python",
   "name": "python3-azureml"
  },
  "language_info": {
   "codemirror_mode": {
    "name": "ipython",
    "version": 3
   },
   "file_extension": ".py",
   "mimetype": "text/x-python",
   "name": "python",
   "nbconvert_exporter": "python",
   "pygments_lexer": "ipython3",
   "version": "3.6.9"
  }
 },
 "nbformat": 4,
 "nbformat_minor": 5
}
